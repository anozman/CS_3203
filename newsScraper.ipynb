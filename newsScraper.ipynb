{
 "cells": [
  {
   "cell_type": "code",
   "execution_count": 1,
   "id": "bbc36924",
   "metadata": {},
   "outputs": [],
   "source": [
    "'''IMPORT STATEMENTS'''\n",
    "import urllib.request\n",
    "from urllib.request import urlopen\n",
    "from bs4 import BeautifulSoup\n",
    "import re\n",
    "#import mechanicalsoup"
   ]
  },
  {
   "cell_type": "markdown",
   "id": "c347cd85",
   "metadata": {},
   "source": [
    "This program is made to scrap the nfl website for news"
   ]
  },
  {
   "cell_type": "code",
   "execution_count": 2,
   "id": "6a333411",
   "metadata": {},
   "outputs": [],
   "source": [
    "'''Generating the website url and instantiating the scraper'''\n",
    "\n",
    "url = 'https://www.nfl.com/news/'\n",
    "\n",
    "page = urlopen(url)\n",
    "html = page.read().decode(\"utf-8\")\n",
    "soup = BeautifulSoup(html, \"html.parser\")\n",
    "\n",
    "#print(soup)"
   ]
  },
  {
   "cell_type": "code",
   "execution_count": 14,
   "id": "16f08112",
   "metadata": {},
   "outputs": [
    {
     "name": "stdout",
     "output_type": "stream",
     "text": [
      "[{'Darren Waller says Raiders told him \\'there\\'s no trade that\\'s going to happen\\'\" data-link_position=\"1:6\" data-link_type=\"Latest News\"', 'https://www.nfl.com/news/darren-waller-says-raiders-told-him-there-s-no-trade-that-s-going-to-happen'}, {'Cardinals pick up fifth-year option on QB Kyler Murray\" data-link_position=\"2:6\" data-link_type=\"Latest News\"', 'https://www.nfl.com/news/cardinals-pick-up-fifth-year-option-on-qb-kyler-murray'}, {'Owner David Tepper still believes in Sam Darnold, requests patience as Panthers build foundation\" data-link_position=\"3:6\" data-link_type=\"Latest News\"', 'https://www.nfl.com/news/owner-david-tepper-still-believes-in-sam-darnold-requests-patience-as-panthers-b'}, {'https://www.nfl.com/news/peyton-manning-peyback-foundation-demaryius-thomas-scholarship-georgia-tech', 'Peyton and Ashley Manning\\'s PeyBack Foundation establishes Demaryius Thomas scholarship at Georgia Tech\" data-link_position=\"4:6\" data-link_type=\"Latest News\"'}, {'https://www.nfl.com/news/jaguars-ot-cam-robinson-agree-to-contract-extension', 'Jaguars, OT Cam Robinson agree to three-year, $54M contract extension\" data-link_position=\"5:6\" data-link_type=\"Latest News\"'}, {'https://www.nfl.com/news/bears-are-not-currently-shopping-pass-rusher-robert-quinn', 'Bears are not currently shopping pass rusher Robert Quinn\\xa0\" data-link_position=\"6:6\" data-link_type=\"Latest News\"'}]\n"
     ]
    }
   ],
   "source": [
    "'''This generates pairs to go along with the URLs'''\n",
    "htmlstring = str(soup)\n",
    "\n",
    "htmlstring = htmlstring[htmlstring.find(\"d3-o-media\"):htmlstring.find(\"displays:none\")]\n",
    "linkstring = \"\"\n",
    "storylist = []\n",
    "found = 1\n",
    "headlinestring = \"\"\n",
    "while(found > 0):\n",
    "    # First generates the headline\n",
    "    found = htmlstring.find(\"data-link_name\")\n",
    "    if(found < 0):\n",
    "        break\n",
    "    linkend = htmlstring.find(\"data-link_url\", found)\n",
    "    headlinestring = htmlstring[(found+16):(linkend-1)]\n",
    "    # Now generate the url\n",
    "    linkstart = htmlstring.find(\"href\", 0)\n",
    "    linkend = htmlstring.find(\" \", linkstart)\n",
    "    linkstring = url + htmlstring[(linkstart+12):(linkend-1)]\n",
    "    htmlstring = htmlstring[linkend:len(htmlstring)]\n",
    "    #Pair the url and headline, then save to the list\n",
    "    story = {headlinestring,linkstring}\n",
    "    storylist.append(story)\n",
    "\n",
    "# Filtering off other links\n",
    "storylistfinal = []\n",
    "for i in range(0,6):\n",
    "    storylistfinal.append(storylist[i])\n",
    "print(storylistfinal)"
   ]
  },
  {
   "cell_type": "code",
   "execution_count": null,
   "id": "f3d93527",
   "metadata": {},
   "outputs": [],
   "source": []
  }
 ],
 "metadata": {
  "kernelspec": {
   "display_name": "Python 3 (ipykernel)",
   "language": "python",
   "name": "python3"
  },
  "language_info": {
   "codemirror_mode": {
    "name": "ipython",
    "version": 3
   },
   "file_extension": ".py",
   "mimetype": "text/x-python",
   "name": "python",
   "nbconvert_exporter": "python",
   "pygments_lexer": "ipython3",
   "version": "3.9.12"
  }
 },
 "nbformat": 4,
 "nbformat_minor": 5
}
